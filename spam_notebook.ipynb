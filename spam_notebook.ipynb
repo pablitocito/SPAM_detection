{
 "cells": [
  {
   "cell_type": "code",
   "execution_count": 4,
   "metadata": {},
   "outputs": [],
   "source": [
    "import pandas as pd\n",
    "import spacy\n",
    "import re\n",
    "from nltk.corpus import stopwords\n",
    "from unidecode import unidecode\n",
    "import string\n",
    "from sklearn.feature_extraction.text import TfidfVectorizer\n",
    "df_eng=pd.read_csv(r'C:\\Users\\UTILISATEUR\\Desktop\\Spam\\Spam_dataset.csv',sep=';')"
   ]
  },
  {
   "cell_type": "code",
   "execution_count": 7,
   "metadata": {},
   "outputs": [],
   "source": [
    "#Remove upper case\n",
    "df_eng.SMS=df_eng.SMS.str.lower()\n",
    "\n",
    "#remove accent\n",
    "df_eng.SMS=df_eng.SMS.apply(lambda text: unidecode(text))\n",
    "\n",
    "#replace numbers\n",
    "df_eng.SMS=df_eng.SMS.apply(lambda x: re.sub(r'\\d{10,15}','phonenumber',x))\n",
    "df_eng.SMS=df_eng.SMS.apply(lambda x: re.sub(r'\\d+','number',x))\n",
    "\n",
    "#retirer la ponctuation\n",
    "df_eng.SMS=df_eng.SMS.apply(lambda text: text.translate(str.maketrans(string.punctuation ,' '*len(string.punctuation ))\n",
    "                                                             ).replace(' '*4,' ').replace(' '*3,' ').replace(' '*2,' ').strip())"
   ]
  },
  {
   "cell_type": "code",
   "execution_count": 8,
   "metadata": {},
   "outputs": [],
   "source": [
    "def lemmatize(text):\n",
    "    lemmatized_array=[]\n",
    "    doc=nlp(u'{}'.format(text))\n",
    "    for token in doc:\n",
    "        if token.lemma_ not in (\"'\",\",\",\"[\",\"]\") and (not token.ent_type_ == \"PER\"):\n",
    "            lemmatized_array.append(token.lemma_)\n",
    "    return lemmatized_array"
   ]
  },
  {
   "cell_type": "code",
   "execution_count": 9,
   "metadata": {},
   "outputs": [],
   "source": [
    "df_nlp_eng=df_eng.copy()"
   ]
  }
 ],
 "metadata": {
  "kernelspec": {
   "display_name": "Python 3.8.3 ('base')",
   "language": "python",
   "name": "python3"
  },
  "language_info": {
   "codemirror_mode": {
    "name": "ipython",
    "version": 3
   },
   "file_extension": ".py",
   "mimetype": "text/x-python",
   "name": "python",
   "nbconvert_exporter": "python",
   "pygments_lexer": "ipython3",
   "version": "3.8.3"
  },
  "orig_nbformat": 4,
  "vscode": {
   "interpreter": {
    "hash": "dbc1240aacb777f1bb6eef7c6382a27e93ff28445d1fb40c63d4471009f75e66"
   }
  }
 },
 "nbformat": 4,
 "nbformat_minor": 2
}
